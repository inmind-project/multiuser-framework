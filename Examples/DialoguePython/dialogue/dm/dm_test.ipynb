{
 "cells": [
  {
   "cell_type": "code",
   "execution_count": 2,
   "metadata": {
    "collapsed": false
   },
   "outputs": [],
   "source": [
    "from dm import *"
   ]
  },
  {
   "cell_type": "code",
   "execution_count": 3,
   "metadata": {
    "collapsed": true
   },
   "outputs": [],
   "source": [
    "import json"
   ]
  },
  {
   "cell_type": "code",
   "execution_count": 60,
   "metadata": {
    "collapsed": false,
    "scrolled": true
   },
   "outputs": [
    {
     "name": "stdout",
     "output_type": "stream",
     "text": [
      "Dialog manager start! current in the start state!\n"
     ]
    }
   ],
   "source": [
    "dm = DialogManager('frame.json')"
   ]
  },
  {
   "cell_type": "code",
   "execution_count": 61,
   "metadata": {
    "collapsed": false
   },
   "outputs": [],
   "source": [
    "action, entities, recommendation = dm.transit('inform', [{\"value\":\"drama\", \"entity\":\"genres\", \"polarity\":0.5, \"start\":7, \"end\":12}, {\"value\":\"action\", \"entity\":\"genres\", \"polarity\":0.5, \"start\":40, \"end\":46}], 'high', \"i love drama movies but not so much for action movies.\")"
   ]
  },
  {
   "cell_type": "code",
   "execution_count": 92,
   "metadata": {
    "collapsed": true
   },
   "outputs": [],
   "source": [
    "text = 'actually i do not like tom cruise'"
   ]
  },
  {
   "cell_type": "code",
   "execution_count": 94,
   "metadata": {
    "collapsed": false
   },
   "outputs": [
    {
     "data": {
      "text/plain": [
       "'tom cruise'"
      ]
     },
     "execution_count": 94,
     "metadata": {},
     "output_type": "execute_result"
    }
   ],
   "source": [
    "text[23:33]"
   ]
  },
  {
   "cell_type": "code",
   "execution_count": 66,
   "metadata": {
    "collapsed": false
   },
   "outputs": [
    {
     "name": "stdout",
     "output_type": "stream",
     "text": [
      "[\n",
      "    {\n",
      "        \"end\": 12, \n",
      "        \"entity\": \"genres\", \n",
      "        \"polarity\": 0.5, \n",
      "        \"start\": 7, \n",
      "        \"value\": \"drama\"\n",
      "    }, \n",
      "    {\n",
      "        \"end\": 46, \n",
      "        \"entity\": \"genres\", \n",
      "        \"polarity\": 0.5, \n",
      "        \"start\": 40, \n",
      "        \"value\": \"action\"\n",
      "    }\n",
      "]\n"
     ]
    }
   ],
   "source": [
    "entities = [{\"value\":\"drama\", \"entity\":\"genres\", \"polarity\":0.5, \"start\":7, \"end\":12}, {\"value\":\"action\", \"entity\":\"genres\", \"polarity\":0.5, \"start\":40, \"end\":46}]\n",
    "print json.dumps(entities, indent=4, sort_keys=True)"
   ]
  },
  {
   "cell_type": "code",
   "execution_count": 79,
   "metadata": {
    "collapsed": false,
    "scrolled": true
   },
   "outputs": [
    {
     "name": "stdout",
     "output_type": "stream",
     "text": [
      "[\n",
      "    {\n",
      "        \"end\": 21, \n",
      "        \"entity\": \"director\", \n",
      "        \"polarity\": 0.5, \n",
      "        \"start\": 23, \n",
      "        \"value\": \"spielberg\"\n",
      "    }\n",
      "]\n"
     ]
    }
   ],
   "source": [
    "entities = [{\"value\":\"spielberg\", \"entity\":\"director\", \"polarity\":0.5, \"start\":23, \"end\":21}]\n",
    "print json.dumps(entities, indent=4, sort_keys=True)"
   ]
  },
  {
   "cell_type": "code",
   "execution_count": 95,
   "metadata": {
    "collapsed": false
   },
   "outputs": [
    {
     "name": "stdout",
     "output_type": "stream",
     "text": [
      "[\n",
      "    {\n",
      "        \"end\": 33, \n",
      "        \"entity\": \"actor\", \n",
      "        \"polarity\": 0.5, \n",
      "        \"start\": 23, \n",
      "        \"value\": \"tom cruise\"\n",
      "    }\n",
      "]\n"
     ]
    }
   ],
   "source": [
    "entities = [{\"value\":\"tom cruise\", \"entity\":\"actor\", \"polarity\":0.5, \"start\":23, \"end\":33}]\n",
    "print json.dumps(entities, indent=4, sort_keys=True)"
   ]
  },
  {
   "cell_type": "code",
   "execution_count": 96,
   "metadata": {
    "collapsed": true
   },
   "outputs": [],
   "source": [
    "action, entities, recommendation = dm.transit('inform', entities, 'high', text)"
   ]
  },
  {
   "cell_type": "code",
   "execution_count": 97,
   "metadata": {
    "collapsed": false
   },
   "outputs": [
    {
     "name": "stdout",
     "output_type": "stream",
     "text": [
      "{\n",
      "    \"action\": \"recommend\", \n",
      "    \"entities\": [], \n",
      "    \"frame\": {\n",
      "        \"ask_stack\": [\n",
      "            \"recommend\"\n",
      "        ], \n",
      "        \"frame\": {\n",
      "            \"actors\": {\n",
      "                \"dislike\": [\n",
      "                    \"tom cruise\"\n",
      "                ], \n",
      "                \"like\": []\n",
      "            }, \n",
      "            \"directors\": {\n",
      "                \"dislike\": [], \n",
      "                \"like\": [\n",
      "                    \"steven spielberg\"\n",
      "                ]\n",
      "            }, \n",
      "            \"genres\": {\n",
      "                \"dislike\": [], \n",
      "                \"like\": [\n",
      "                    \"drama\", \n",
      "                    \"action\"\n",
      "                ]\n",
      "            }, \n",
      "            \"movies\": {\n",
      "                \"dislike\": [\n",
      "                    \"Jack Reacher: Never Go Back (2016)\", \n",
      "                    \"My Scientology Movie (2015)\"\n",
      "                ], \n",
      "                \"history\": [\n",
      "                    \"Top Gun (1986)\"\n",
      "                ], \n",
      "                \"like\": [\n",
      "                    \"Top Gun (1986)\", \n",
      "                    \"Experimenter (2015)\"\n",
      "                ]\n",
      "            }\n",
      "        }, \n",
      "        \"universals\": [\n",
      "            \"help\", \n",
      "            \"start_over\"\n",
      "        ]\n",
      "    }, \n",
      "    \"recommendation\": {\n",
      "        \"rexplanations\": [\n",
      "            {\n",
      "                \"explanations\": [\n",
      "                    \"Anthony (I) Edwards\"\n",
      "                ], \n",
      "                \"recommendation\": \"Experimenter (2015)\"\n",
      "            }\n",
      "        ]\n",
      "    }\n",
      "}\n"
     ]
    }
   ],
   "source": [
    "retval = {\n",
    "            'action': action, \n",
    "            'entities': entities, \n",
    "            'frame': dm.frame,\n",
    "            \"recommendation\": recommendation\n",
    "    }\n",
    "\n",
    "print json.dumps(retval, indent=4, sort_keys=True)"
   ]
  },
  {
   "cell_type": "code",
   "execution_count": 90,
   "metadata": {
    "collapsed": false
   },
   "outputs": [],
   "source": [
    "action, entities, recommendation = dm.transit('no', [], 'high', 'text')"
   ]
  },
  {
   "cell_type": "code",
   "execution_count": null,
   "metadata": {
    "collapsed": true
   },
   "outputs": [],
   "source": []
  },
  {
   "cell_type": "code",
   "execution_count": null,
   "metadata": {
    "collapsed": true
   },
   "outputs": [],
   "source": []
  },
  {
   "cell_type": "code",
   "execution_count": null,
   "metadata": {
    "collapsed": true
   },
   "outputs": [],
   "source": []
  },
  {
   "cell_type": "code",
   "execution_count": null,
   "metadata": {
    "collapsed": true
   },
   "outputs": [],
   "source": []
  },
  {
   "cell_type": "code",
   "execution_count": null,
   "metadata": {
    "collapsed": true
   },
   "outputs": [],
   "source": []
  },
  {
   "cell_type": "code",
   "execution_count": null,
   "metadata": {
    "collapsed": true
   },
   "outputs": [],
   "source": []
  },
  {
   "cell_type": "code",
   "execution_count": null,
   "metadata": {
    "collapsed": true
   },
   "outputs": [],
   "source": []
  },
  {
   "cell_type": "code",
   "execution_count": 3,
   "metadata": {
    "collapsed": true
   },
   "outputs": [],
   "source": [
    "from fuzzy import *"
   ]
  },
  {
   "cell_type": "code",
   "execution_count": null,
   "metadata": {
    "collapsed": true
   },
   "outputs": [],
   "source": []
  },
  {
   "cell_type": "code",
   "execution_count": 8,
   "metadata": {
    "collapsed": true
   },
   "outputs": [],
   "source": [
    "entities = [ {\"value\":\"antony hopins\", \"entity\":\"genres\", \"polarity\":0.5, \"start\":7, \"end\":12}, {\"value\":\"action\", \"entity\":\"genres\", \"polarity\":0.5, \"start\":40, \"end\":46}]"
   ]
  },
  {
   "cell_type": "code",
   "execution_count": 9,
   "metadata": {
    "collapsed": false,
    "scrolled": true
   },
   "outputs": [
    {
     "data": {
      "text/plain": [
       "[{'confidence': 0.5,\n",
       "  'end': 12,\n",
       "  'entity': 'genres',\n",
       "  'polarity': 0.5,\n",
       "  'start': 7,\n",
       "  'value': 'anthony hopkins'},\n",
       " {'confidence': 1,\n",
       "  'end': 46,\n",
       "  'entity': 'genres',\n",
       "  'polarity': 0.5,\n",
       "  'start': 40,\n",
       "  'value': 'action'}]"
      ]
     },
     "execution_count": 9,
     "metadata": {},
     "output_type": "execute_result"
    }
   ],
   "source": [
    "lazy_exact_match(entities)"
   ]
  },
  {
   "cell_type": "code",
   "execution_count": 11,
   "metadata": {
    "collapsed": false
   },
   "outputs": [
    {
     "data": {
      "text/plain": [
       "True"
      ]
     },
     "execution_count": 11,
     "metadata": {},
     "output_type": "execute_result"
    }
   ],
   "source": [
    "'action' in table['genres'][0].values"
   ]
  },
  {
   "cell_type": "code",
   "execution_count": 43,
   "metadata": {
    "collapsed": true
   },
   "outputs": [],
   "source": [
    "ent_type = 'directors'"
   ]
  },
  {
   "cell_type": "code",
   "execution_count": 8,
   "metadata": {
    "collapsed": false
   },
   "outputs": [
    {
     "ename": "NameError",
     "evalue": "name 'ent_type' is not defined",
     "output_type": "error",
     "traceback": [
      "\u001b[0;31m---------------------------------------------------------------------------\u001b[0m",
      "\u001b[0;31mNameError\u001b[0m                                 Traceback (most recent call last)",
      "\u001b[0;32m<ipython-input-8-1a5b11b1541b>\u001b[0m in \u001b[0;36m<module>\u001b[0;34m()\u001b[0m\n\u001b[1;32m      1\u001b[0m \u001b[0;32mfor\u001b[0m \u001b[0mi\u001b[0m\u001b[0;34m,\u001b[0m \u001b[0meach\u001b[0m \u001b[0;32min\u001b[0m \u001b[0menumerate\u001b[0m\u001b[0;34m(\u001b[0m\u001b[0mentities\u001b[0m\u001b[0;34m)\u001b[0m\u001b[0;34m:\u001b[0m\u001b[0;34m\u001b[0m\u001b[0m\n\u001b[0;32m----> 2\u001b[0;31m     \u001b[0meach\u001b[0m\u001b[0;34m[\u001b[0m\u001b[0;34m'entity'\u001b[0m\u001b[0;34m]\u001b[0m \u001b[0;34m=\u001b[0m \u001b[0ment_type\u001b[0m\u001b[0;34m\u001b[0m\u001b[0m\n\u001b[0m\u001b[1;32m      3\u001b[0m     \u001b[0;32mif\u001b[0m \u001b[0meach\u001b[0m\u001b[0;34m[\u001b[0m\u001b[0;34m'value'\u001b[0m\u001b[0;34m]\u001b[0m\u001b[0;34m.\u001b[0m\u001b[0mlower\u001b[0m\u001b[0;34m(\u001b[0m\u001b[0;34m)\u001b[0m \u001b[0;32min\u001b[0m \u001b[0mtable\u001b[0m\u001b[0;34m[\u001b[0m\u001b[0ment_type\u001b[0m\u001b[0;34m]\u001b[0m\u001b[0;34m[\u001b[0m\u001b[0;36m0\u001b[0m\u001b[0;34m]\u001b[0m\u001b[0;34m:\u001b[0m\u001b[0;34m\u001b[0m\u001b[0m\n\u001b[1;32m      4\u001b[0m         \u001b[0meach\u001b[0m\u001b[0;34m[\u001b[0m\u001b[0;34m'value'\u001b[0m\u001b[0;34m]\u001b[0m \u001b[0;34m=\u001b[0m \u001b[0meach\u001b[0m\u001b[0;34m[\u001b[0m\u001b[0;34m'value'\u001b[0m\u001b[0;34m]\u001b[0m\u001b[0;34m.\u001b[0m\u001b[0mlower\u001b[0m\u001b[0;34m(\u001b[0m\u001b[0;34m)\u001b[0m\u001b[0;34m\u001b[0m\u001b[0m\n\u001b[1;32m      5\u001b[0m         \u001b[0meach\u001b[0m\u001b[0;34m[\u001b[0m\u001b[0;34m'confidence'\u001b[0m\u001b[0;34m]\u001b[0m \u001b[0;34m=\u001b[0m \u001b[0;36m1\u001b[0m\u001b[0;34m\u001b[0m\u001b[0m\n",
      "\u001b[0;31mNameError\u001b[0m: name 'ent_type' is not defined"
     ]
    }
   ],
   "source": [
    "for i, each in enumerate(entities):\n",
    "    each['entity'] = ent_type\n",
    "    if each['value'].lower() in table[ent_type][0]:\n",
    "        each['value'] = each['value'].lower()\n",
    "        each['confidence'] = 1\n",
    "    else:\n",
    "        fuzzy_result = process.extractOne(each['value'].lower(), table[ent_type][0], scorer = fuzz.token_set_ratio)\n",
    "        if fuzzy_result[1] >= 90:\n",
    "            each['value'] = fuzzy_result[0]\n",
    "            each['confidence'] = 0.5\n",
    "        else:\n",
    "            del entities[i]\n",
    "    "
   ]
  },
  {
   "cell_type": "code",
   "execution_count": 9,
   "metadata": {
    "collapsed": false
   },
   "outputs": [],
   "source": [
    "entities_f = [{'value': 'at James', 'start': 7, 'entity': 'genres', 'end': 15, 'polarity': 0.0}]"
   ]
  },
  {
   "cell_type": "code",
   "execution_count": 10,
   "metadata": {
    "collapsed": true
   },
   "outputs": [],
   "source": [
    "text_f = 'I like at James Cameron'"
   ]
  },
  {
   "cell_type": "code",
   "execution_count": 4,
   "metadata": {
    "collapsed": true
   },
   "outputs": [],
   "source": [
    "text = \"i love jennifer lawrance but I hated tom cruise.\""
   ]
  },
  {
   "cell_type": "code",
   "execution_count": 5,
   "metadata": {
    "collapsed": false
   },
   "outputs": [],
   "source": [
    "entities = [{\"value\":\"jennifer lawrence\", \"entity\":\"actors\", \"polarity\":0.5, \"start\":7, \"end\":24}, {\"value\":\"tom cruise\", \"entity\":\"actors\", \"polarity\":-0.5, \"start\":38, \"end\":48}]"
   ]
  },
  {
   "cell_type": "code",
   "execution_count": 12,
   "metadata": {
    "collapsed": false
   },
   "outputs": [
    {
     "data": {
      "text/plain": [
       "{'at James': ['I like ', ' Cameron']}"
      ]
     },
     "execution_count": 12,
     "metadata": {},
     "output_type": "execute_result"
    }
   ],
   "source": [
    "context = entity2context(text_f, entities_f)\n",
    "context"
   ]
  },
  {
   "cell_type": "code",
   "execution_count": 51,
   "metadata": {
    "collapsed": false
   },
   "outputs": [
    {
     "data": {
      "text/plain": [
       "[{'end': 24,\n",
       "  'entity': 'actors',\n",
       "  'polarity': 0.6369,\n",
       "  'start': 7,\n",
       "  'value': 'jennifer lawrence'},\n",
       " {'end': 48,\n",
       "  'entity': 'actors',\n",
       "  'polarity': -0.395,\n",
       "  'start': 38,\n",
       "  'value': 'tom cruise'}]"
      ]
     },
     "execution_count": 51,
     "metadata": {},
     "output_type": "execute_result"
    }
   ],
   "source": [
    "sentiment_update(entities, context)"
   ]
  },
  {
   "cell_type": "code",
   "execution_count": 25,
   "metadata": {
    "collapsed": true
   },
   "outputs": [],
   "source": [
    "each = entities[1]"
   ]
  },
  {
   "cell_type": "code",
   "execution_count": 20,
   "metadata": {
    "collapsed": true
   },
   "outputs": [],
   "source": [
    "    ret_dic = {}\n",
    "    last_val = None\n",
    "    last_end = 0"
   ]
  },
  {
   "cell_type": "code",
   "execution_count": 26,
   "metadata": {
    "collapsed": false
   },
   "outputs": [],
   "source": [
    "ret_dic[each['value']] = [text[last_end:each['start']]]"
   ]
  },
  {
   "cell_type": "code",
   "execution_count": 23,
   "metadata": {
    "collapsed": true
   },
   "outputs": [],
   "source": [
    "            last_end = each['end']\n",
    "            last_val = each['value']"
   ]
  },
  {
   "cell_type": "code",
   "execution_count": null,
   "metadata": {
    "collapsed": true
   },
   "outputs": [],
   "source": [
    "ret_dic[last_val].append(text[last_end:each['start']])"
   ]
  },
  {
   "cell_type": "code",
   "execution_count": 29,
   "metadata": {
    "collapsed": false
   },
   "outputs": [
    {
     "data": {
      "text/plain": [
       "7"
      ]
     },
     "execution_count": 29,
     "metadata": {},
     "output_type": "execute_result"
    }
   ],
   "source": [
    "each['start']"
   ]
  },
  {
   "cell_type": "code",
   "execution_count": 27,
   "metadata": {
    "collapsed": false
   },
   "outputs": [
    {
     "data": {
      "text/plain": [
       "{'jennifer lawrence': ['i love '], 'tom cruise': ['']}"
      ]
     },
     "execution_count": 27,
     "metadata": {},
     "output_type": "execute_result"
    }
   ],
   "source": [
    "ret_dic"
   ]
  },
  {
   "cell_type": "code",
   "execution_count": null,
   "metadata": {
    "collapsed": true
   },
   "outputs": [],
   "source": []
  },
  {
   "cell_type": "code",
   "execution_count": null,
   "metadata": {
    "collapsed": true
   },
   "outputs": [],
   "source": [
    "[{}, {}]"
   ]
  },
  {
   "cell_type": "code",
   "execution_count": 53,
   "metadata": {
    "collapsed": false
   },
   "outputs": [
    {
     "data": {
      "text/plain": [
       "['jennifer lawrence', 'tom cruise']"
      ]
     },
     "execution_count": 53,
     "metadata": {},
     "output_type": "execute_result"
    }
   ],
   "source": [
    "map(lambda x: x['value'], entities)"
   ]
  },
  {
   "cell_type": "code",
   "execution_count": 56,
   "metadata": {
    "collapsed": false
   },
   "outputs": [],
   "source": [
    "entities.remove(filter(lambda x: x['value'] == 'tom cruise', entities)[0])"
   ]
  },
  {
   "cell_type": "code",
   "execution_count": 57,
   "metadata": {
    "collapsed": false
   },
   "outputs": [
    {
     "data": {
      "text/plain": [
       "[{'end': 24,\n",
       "  'entity': 'actors',\n",
       "  'polarity': 0.5,\n",
       "  'start': 7,\n",
       "  'value': 'jennifer lawrence'}]"
      ]
     },
     "execution_count": 57,
     "metadata": {},
     "output_type": "execute_result"
    }
   ],
   "source": [
    "entities"
   ]
  },
  {
   "cell_type": "code",
   "execution_count": null,
   "metadata": {
    "collapsed": true
   },
   "outputs": [],
   "source": []
  },
  {
   "cell_type": "code",
   "execution_count": null,
   "metadata": {
    "collapsed": true
   },
   "outputs": [],
   "source": []
  }
 ],
 "metadata": {
  "kernelspec": {
   "display_name": "Python [default]",
   "language": "python",
   "name": "python2"
  },
  "language_info": {
   "codemirror_mode": {
    "name": "ipython",
    "version": 2
   },
   "file_extension": ".py",
   "mimetype": "text/x-python",
   "name": "python",
   "nbconvert_exporter": "python",
   "pygments_lexer": "ipython2",
   "version": "2.7.13"
  }
 },
 "nbformat": 4,
 "nbformat_minor": 2
}
